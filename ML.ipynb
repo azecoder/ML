{
  "nbformat": 4,
  "nbformat_minor": 0,
  "metadata": {
    "colab": {
      "name": "ML.ipynb",
      "provenance": [],
      "collapsed_sections": [],
      "include_colab_link": true
    },
    "kernelspec": {
      "name": "python3",
      "display_name": "Python 3"
    }
  },
  "cells": [
    {
      "cell_type": "markdown",
      "metadata": {
        "id": "view-in-github",
        "colab_type": "text"
      },
      "source": [
        "<a href=\"https://colab.research.google.com/github/azecoder/ML/blob/master/ML.ipynb\" target=\"_parent\"><img src=\"https://colab.research.google.com/assets/colab-badge.svg\" alt=\"Open In Colab\"/></a>"
      ]
    },
    {
      "cell_type": "code",
      "metadata": {
        "id": "WLhxrItTFlT5",
        "colab_type": "code",
        "outputId": "ee9ac91d-57ed-4b17-f71a-9465fee969c3",
        "colab": {
          "base_uri": "https://localhost:8080/",
          "height": 122
        }
      },
      "source": [
        "import math\n",
        "import numpy as np\n",
        "\n",
        "\n",
        "from google.colab import drive\n",
        "drive.mount('/gdrive', force_remount=True)"
      ],
      "execution_count": 2,
      "outputs": [
        {
          "output_type": "stream",
          "text": [
            "Go to this URL in a browser: https://accounts.google.com/o/oauth2/auth?client_id=947318989803-6bn6qk8qdgf4n4g3pfee6491hc0brc4i.apps.googleusercontent.com&redirect_uri=urn%3aietf%3awg%3aoauth%3a2.0%3aoob&response_type=code&scope=email%20https%3a%2f%2fwww.googleapis.com%2fauth%2fdocs.test%20https%3a%2f%2fwww.googleapis.com%2fauth%2fdrive%20https%3a%2f%2fwww.googleapis.com%2fauth%2fdrive.photos.readonly%20https%3a%2f%2fwww.googleapis.com%2fauth%2fpeopleapi.readonly\n",
            "\n",
            "Enter your authorization code:\n",
            "··········\n",
            "Mounted at /gdrive\n"
          ],
          "name": "stdout"
        }
      ]
    },
    {
      "cell_type": "code",
      "metadata": {
        "id": "3a_IELKmGC1h",
        "colab_type": "code",
        "outputId": "86e18d09-c457-49aa-dcdc-c960a00f29a3",
        "colab": {
          "base_uri": "https://localhost:8080/",
          "height": 221
        }
      },
      "source": [
        "filepath = '/gdrive/My Drive/Projects/ML/ML-CUP19-TR.csv'\n",
        "\n",
        "# import pandas as pd\n",
        "import numpy as np\n",
        "\n",
        "dataset = np.loadtxt(filepath, skiprows=7, delimiter=\",\")\n",
        "\n",
        "print(dataset[:2,:])"
      ],
      "execution_count": 3,
      "outputs": [
        {
          "output_type": "stream",
          "text": [
            "[[ 1.00000000e+00  4.03680338e-01 -1.26330528e+00 -1.40577657e+00\n",
            "  -1.20439054e+00 -1.15093277e+00 -1.59757513e-02  1.05029534e+00\n",
            "  -1.34592218e+00  4.03672346e-01 -1.15094796e+00 -1.59814365e-02\n",
            "  -5.00362665e-01 -5.00365298e-01 -1.20438243e+00  1.22521344e+00\n",
            "  -1.34592131e+00  1.05031710e+00 -1.40578687e+00 -1.26331972e+00\n",
            "   1.22520306e+00  4.13091198e+00 -2.88270840e-01]\n",
            " [ 2.00000000e+00 -9.85473912e-01  1.49528474e+00 -9.47413475e-01\n",
            "   5.20832049e-01  1.16691012e-01 -1.11831830e+00 -1.22187380e+00\n",
            "   1.57202260e+00 -9.85459895e-01  1.16686048e-01 -1.11830737e+00\n",
            "  -9.71660016e-01 -9.71674705e-01  5.20838936e-01 -1.22326646e+00\n",
            "   1.57202473e+00 -1.22188462e+00 -9.47417106e-01  1.49530232e+00\n",
            "  -1.22327817e+00  2.94990452e+01 -4.53563461e+00]]\n"
          ],
          "name": "stdout"
        }
      ]
    },
    {
      "cell_type": "code",
      "metadata": {
        "id": "NY6ITPznJ3wk",
        "colab_type": "code",
        "outputId": "01d15922-6f98-409d-d967-805bdd420c57",
        "colab": {
          "base_uri": "https://localhost:8080/",
          "height": 289
        }
      },
      "source": [
        "# split dataset into input and target datasets\n",
        "data_x, data_y = dataset[:,1:21], dataset[:,21:23]\n",
        "\n",
        "print(\"-- Input Dataset --- -------\")\n",
        "print(data_x[:2][:], \"\\n\\n\")\n",
        "print(\"-- Targer Dataset ----------\")\n",
        "print(data_y[:2][:], \"\\n\\n\")"
      ],
      "execution_count": 4,
      "outputs": [
        {
          "output_type": "stream",
          "text": [
            "-- Input Dataset ----------\n",
            "[[ 0.40368034 -1.26330528 -1.40577657 -1.20439054 -1.15093277 -0.01597575\n",
            "   1.05029534 -1.34592218  0.40367235 -1.15094796 -0.01598144 -0.50036266\n",
            "  -0.5003653  -1.20438243  1.22521344 -1.34592131  1.0503171  -1.40578687\n",
            "  -1.26331972  1.22520306]\n",
            " [-0.98547391  1.49528474 -0.94741347  0.52083205  0.11669101 -1.1183183\n",
            "  -1.2218738   1.5720226  -0.98545989  0.11668605 -1.11830737 -0.97166002\n",
            "  -0.9716747   0.52083894 -1.22326646  1.57202473 -1.22188462 -0.94741711\n",
            "   1.49530232 -1.22327817]] \n",
            "\n",
            "\n",
            "-- Targer Dataset ----------\n",
            "[[ 4.13091198 -0.28827084]\n",
            " [29.49904525 -4.53563461]] \n",
            "\n",
            "\n"
          ],
          "name": "stdout"
        }
      ]
    },
    {
      "cell_type": "code",
      "metadata": {
        "id": "ZLzz-zXSMJ87",
        "colab_type": "code",
        "outputId": "aa8f993b-f7ce-4980-d3a8-410dec6c66d1",
        "colab": {
          "base_uri": "https://localhost:8080/",
          "height": 221
        }
      },
      "source": [
        "from sklearn.model_selection import train_test_split\n",
        "\n",
        "# split datasets into train and test parts\n",
        "x_train, x_test, y_train, y_test = train_test_split(data_x, data_y, test_size=0.33, random_state=42)\n",
        "x_train, x_val, y_train, y_val = train_test_split(x_train, y_train, test_size=0.33, random_state=42)\n",
        "\n",
        "print(\"-- X Train ---------\")\n",
        "print(\">> shape:\", x_train.shape)\n",
        "print(x_train[:2][:], \"\\n\\n\")"
      ],
      "execution_count": 5,
      "outputs": [
        {
          "output_type": "stream",
          "text": [
            "-- X Train ---------\n",
            ">> shape: (791, 20)\n",
            "[[-1.04861932  1.49531883 -1.77246799  0.52084534 -0.37626086 -1.32498938\n",
            "  -1.1022908   1.51479205 -1.04861061 -0.37627588 -1.32499431 -1.16017279\n",
            "  -1.16017091  0.52082268 -1.22326928  1.51482285 -1.1022798  -1.77246585\n",
            "   1.49531319 -1.22326698]\n",
            " [-1.42745848  1.4953008  -1.31409426  1.17523193 -0.09457126 -0.98050594\n",
            "  -1.34146017  1.4576103  -1.42748091 -0.09457553 -0.98049453 -0.68888402\n",
            "  -0.68889292  1.17524774 -1.40243835  1.45758766 -1.3414468  -1.31410599\n",
            "   1.49530689 -1.40243332]] \n",
            "\n",
            "\n"
          ],
          "name": "stdout"
        }
      ]
    },
    {
      "cell_type": "code",
      "metadata": {
        "id": "g9QGutbEMy84",
        "colab_type": "code",
        "outputId": "3dcd4c61-2ca8-44da-b831-c0c38360230e",
        "colab": {
          "base_uri": "https://localhost:8080/",
          "height": 221
        }
      },
      "source": [
        "from sklearn.preprocessing import MinMaxScaler\n",
        "scaler = MinMaxScaler(feature_range=(0, 1))\n",
        "x_train_scaled = scaler.fit_transform(x_train)\n",
        "x_val_scaled = scaler.fit_transform(x_val)\n",
        "y_train_scaled = scaler.fit_transform(y_train)\n",
        "y_val_scaled = scaler.fit_transform(y_val)\n",
        "# x_test_scaled = scaler.fit_transform(x_test)\n",
        "\n",
        "print(\"-- X Train Scaled ---------\")\n",
        "print(\">> shape:\", x_train_scaled.shape)\n",
        "print(x_train_scaled[:2][:], \"\\n\\n\")"
      ],
      "execution_count": 6,
      "outputs": [
        {
          "output_type": "stream",
          "text": [
            "-- X Train Scaled ---------\n",
            ">> shape: (791, 20)\n",
            "[[0.23213592 0.88889299 0.31372853 0.6060597  0.44827725 0.160714\n",
            "  0.12963168 0.79998998 0.23214001 0.44827478 0.16071577 0.3090919\n",
            "  0.30909361 0.60605488 0.10909846 0.80000008 0.12962781 0.31373101\n",
            "  0.88888986 0.1090978 ]\n",
            " [0.12499811 0.88888791 0.41176804 0.77272241 0.51724118 0.25000169\n",
            "  0.05556003 0.78461442 0.12499424 0.5172409  0.25000745 0.4000009\n",
            "  0.39999994 0.77272717 0.05455016 0.78461    0.0555562  0.41176699\n",
            "  0.88888808 0.05455011]] \n",
            "\n",
            "\n"
          ],
          "name": "stdout"
        }
      ]
    },
    {
      "cell_type": "code",
      "metadata": {
        "id": "zeYVoMOrNra6",
        "colab_type": "code",
        "colab": {}
      },
      "source": [
        "from random import randint\n",
        "\n",
        "def getRandValue(arr):\n",
        "  if arr and len(arr):\n",
        "    rIdx = randint(0, len(arr) - 1)\n",
        "    return arr[rIdx]\n",
        "  return None\n",
        "\n",
        "\n",
        "def randomFit(grid_values, model, data_values, count):\n",
        "  retArr = []\n",
        "  for idx in range(count):\n",
        "    lr = getRandValue(grid_values[\"compiler\"][\"lr\"])\n",
        "    momentum = getRandValue(grid_values[\"compiler\"][\"momentum\"])\n",
        "    optimizer = keras.optimizers.SGD(lr=lr, momentum=momentum, nesterov=True)\n",
        "    model.compile(loss=keras.losses.mean_squared_error, optimizer=optimizer)\n",
        "\n",
        "    epochs = getRandValue(grid_values[\"epochs\"])\n",
        "    batch_size = getRandValue(grid_values[\"batch_sizes\"])\n",
        "    history = model.fit(data_values[\"x\"], data_values[\"y\"], epochs=epochs, validation_data=(data_values[\"val_x\"], data_values[\"val_y\"]), batch_size=batch_size, verbose=0)\n",
        "    \n",
        "    retArr.append({\n",
        "        \"epochs\": epochs,\n",
        "        \"batch_size\": batch_size,\n",
        "        \"fit_result\": history,\n",
        "    })\n",
        "  return retArr"
      ],
      "execution_count": 0,
      "outputs": []
    },
    {
      "cell_type": "code",
      "metadata": {
        "id": "MjJPNnRNM7Z8",
        "colab_type": "code",
        "colab": {}
      },
      "source": [
        "# from sklearn.linear_model import LinearRegression as lm\n",
        "# model=lm().fit(x_train_scaled, y_train_scaled)\n",
        "# y_val_pred = model.predict(x_val_scaled)\n",
        "# y_val_inverse = scaler.inverse_transform(y_val_pred)"
      ],
      "execution_count": 0,
      "outputs": []
    },
    {
      "cell_type": "code",
      "metadata": {
        "id": "peS9ZQ-GM9OH",
        "colab_type": "code",
        "colab": {}
      },
      "source": [
        "import keras\n",
        "from keras.models import Sequential\n",
        "model = Sequential()\n",
        "\n",
        "# for tensorflow update error\n",
        "import tensorflow.compat.v1 as tf\n",
        "tf.disable_v2_behavior()\n",
        "\n",
        "\n",
        "from keras.layers import Dense\n",
        "model.add(Dense(100, input_dim=20, activation='relu')) # input [100][20]\n",
        "model.add(Dense(2, activation='sigmoid')) # output\n",
        "# model.compile(loss=keras.losses.mean_squared_error, optimizer=keras.optimizers.SGD(lr=0.01, momentum=0.9, nesterov=True))\n",
        "\n",
        "grid_values = {\n",
        "    \"compiler\": {\n",
        "        \"lr\": [0.01],\n",
        "        \"momentum\": [0.9],\n",
        "        \"nesterov\": True\n",
        "    },\n",
        "    \"epochs\": [100, 500, 1000],\n",
        "    \"batch_sizes\": [20, 40]\n",
        "}\n",
        "data_values = {\n",
        "    \"x\": x_train_scaled,\n",
        "    \"y\": y_train_scaled,\n",
        "    \"val_x\": x_val_scaled,\n",
        "    \"val_y\": y_val_scaled\n",
        "}\n",
        "\n",
        "histArr = []\n",
        "histArr = randomFit(grid_values, model, data_values, 3)\n",
        "\n",
        "# history = model.fit(x_train_scaled, y_train_scaled, epochs=500, validation_data=(x_val_scaled, y_val_scaled), batch_size=32, verbose=0)"
      ],
      "execution_count": 0,
      "outputs": []
    },
    {
      "cell_type": "code",
      "metadata": {
        "id": "zUqgD0LRRPhl",
        "colab_type": "code",
        "outputId": "200d5ca6-5bab-41cc-a233-4f11a76db09e",
        "colab": {
          "base_uri": "https://localhost:8080/",
          "height": 730
        }
      },
      "source": [
        "import matplotlib.pyplot as plt\n",
        "\n",
        "plt.figure(figsize=(10, 12))\n",
        "\n",
        "for row in histArr:\n",
        "  label = \"loss - epoch(\" + str(row[\"epochs\"]) + \") - batch_size(\" + str(row[\"batch_size\"]) + \")\"\n",
        "  val_label = \"val_\" + label\n",
        "  plt.plot(row[\"fit_result\"].history[\"loss\"], label=label) # history[\"loss\"][200:] for data after index 200\n",
        "  plt.plot(row[\"fit_result\"].history[\"val_loss\"], label=val_label)\n",
        "\n",
        "plt.xlabel(\"epochs\")\n",
        "plt.ylabel(\"values\")\n",
        "\n",
        "plt.title('Keras MSE')\n",
        "plt.legend()\n",
        "\n",
        "plt.show()"
      ],
      "execution_count": 67,
      "outputs": [
        {
          "output_type": "display_data",
          "data": {
            "image/png": "[encoded data removed]",
            "text/plain": [
              "<Figure size 720x864 with 1 Axes>"
            ]
          },
          "metadata": {
            "tags": []
          }
        }
      ]
    },
    {
      "cell_type": "code",
      "metadata": {
        "id": "qoe3zSxvG5zH",
        "colab_type": "code",
        "colab": {}
      },
      "source": [
        ""
      ],
      "execution_count": 0,
      "outputs": []
    },
    {
      "cell_type": "code",
      "metadata": {
        "id": "nnNcQv--XeRd",
        "colab_type": "code",
        "colab": {}
      },
      "source": [
        "ly_val_pred = model.predict(x_val_scaled, batch_size=128)\n",
        "y_val_pred_inverse = scaler.inverse_transform(y_val_pred)"
      ],
      "execution_count": 0,
      "outputs": []
    },
    {
      "cell_type": "code",
      "metadata": {
        "id": "Hd-2hNULRyDS",
        "colab_type": "code",
        "colab": {
          "base_uri": "https://localhost:8080/",
          "height": 34
        },
        "outputId": "3d9b6257-3c56-4692-9893-4b18e53240b1"
      },
      "source": [
        "import math\n",
        "\n",
        "mee = 0\n",
        "for x in range( len(y_val) ):\n",
        "    mee = mee + math.sqrt( math.pow(y_val[x,0] - y_val_pred_inverse[x,0], 2) + math.pow(y_val[x,1] - y_val_pred_inverse[x,1], 2) )\n",
        "\n",
        "mee = mee / len( y_val )\n",
        "\n",
        "print(\"MEE:\", mee)\n"
      ],
      "execution_count": 30,
      "outputs": [
        {
          "output_type": "stream",
          "text": [
            "MEE: 2.3022164751149954\n"
          ],
          "name": "stdout"
        }
      ]
    },
    {
      "cell_type": "code",
      "metadata": {
        "id": "8yilqAOWZJSZ",
        "colab_type": "code",
        "colab": {}
      },
      "source": [
        ""
      ],
      "execution_count": 0,
      "outputs": []
    }
  ]
}